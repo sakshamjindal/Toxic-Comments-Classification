{
 "cells": [
  {
   "cell_type": "code",
   "execution_count": 1,
   "metadata": {},
   "outputs": [],
   "source": [
    "import pandas as pd\n",
    "import numpy as np"
   ]
  },
  {
   "cell_type": "code",
   "execution_count": 2,
   "metadata": {},
   "outputs": [
    {
     "data": {
      "text/html": [
       "<div>\n",
       "<style scoped>\n",
       "    .dataframe tbody tr th:only-of-type {\n",
       "        vertical-align: middle;\n",
       "    }\n",
       "\n",
       "    .dataframe tbody tr th {\n",
       "        vertical-align: top;\n",
       "    }\n",
       "\n",
       "    .dataframe thead th {\n",
       "        text-align: right;\n",
       "    }\n",
       "</style>\n",
       "<table border=\"1\" class=\"dataframe\">\n",
       "  <thead>\n",
       "    <tr style=\"text-align: right;\">\n",
       "      <th></th>\n",
       "      <th>id</th>\n",
       "      <th>comment_text</th>\n",
       "      <th>toxic</th>\n",
       "      <th>severe_toxic</th>\n",
       "      <th>obscene</th>\n",
       "      <th>threat</th>\n",
       "      <th>insult</th>\n",
       "      <th>identity_hate</th>\n",
       "    </tr>\n",
       "  </thead>\n",
       "  <tbody>\n",
       "    <tr>\n",
       "      <th>0</th>\n",
       "      <td>0000997932d777bf</td>\n",
       "      <td>Explanation\\nWhy the edits made under my usern...</td>\n",
       "      <td>0</td>\n",
       "      <td>0</td>\n",
       "      <td>0</td>\n",
       "      <td>0</td>\n",
       "      <td>0</td>\n",
       "      <td>0</td>\n",
       "    </tr>\n",
       "    <tr>\n",
       "      <th>1</th>\n",
       "      <td>000103f0d9cfb60f</td>\n",
       "      <td>D'aww! He matches this background colour I'm s...</td>\n",
       "      <td>0</td>\n",
       "      <td>0</td>\n",
       "      <td>0</td>\n",
       "      <td>0</td>\n",
       "      <td>0</td>\n",
       "      <td>0</td>\n",
       "    </tr>\n",
       "    <tr>\n",
       "      <th>2</th>\n",
       "      <td>000113f07ec002fd</td>\n",
       "      <td>Hey man, I'm really not trying to edit war. It...</td>\n",
       "      <td>0</td>\n",
       "      <td>0</td>\n",
       "      <td>0</td>\n",
       "      <td>0</td>\n",
       "      <td>0</td>\n",
       "      <td>0</td>\n",
       "    </tr>\n",
       "    <tr>\n",
       "      <th>3</th>\n",
       "      <td>0001b41b1c6bb37e</td>\n",
       "      <td>\"\\nMore\\nI can't make any real suggestions on ...</td>\n",
       "      <td>0</td>\n",
       "      <td>0</td>\n",
       "      <td>0</td>\n",
       "      <td>0</td>\n",
       "      <td>0</td>\n",
       "      <td>0</td>\n",
       "    </tr>\n",
       "    <tr>\n",
       "      <th>4</th>\n",
       "      <td>0001d958c54c6e35</td>\n",
       "      <td>You, sir, are my hero. Any chance you remember...</td>\n",
       "      <td>0</td>\n",
       "      <td>0</td>\n",
       "      <td>0</td>\n",
       "      <td>0</td>\n",
       "      <td>0</td>\n",
       "      <td>0</td>\n",
       "    </tr>\n",
       "  </tbody>\n",
       "</table>\n",
       "</div>"
      ],
      "text/plain": [
       "                 id                                       comment_text  toxic  \\\n",
       "0  0000997932d777bf  Explanation\\nWhy the edits made under my usern...      0   \n",
       "1  000103f0d9cfb60f  D'aww! He matches this background colour I'm s...      0   \n",
       "2  000113f07ec002fd  Hey man, I'm really not trying to edit war. It...      0   \n",
       "3  0001b41b1c6bb37e  \"\\nMore\\nI can't make any real suggestions on ...      0   \n",
       "4  0001d958c54c6e35  You, sir, are my hero. Any chance you remember...      0   \n",
       "\n",
       "   severe_toxic  obscene  threat  insult  identity_hate  \n",
       "0             0        0       0       0              0  \n",
       "1             0        0       0       0              0  \n",
       "2             0        0       0       0              0  \n",
       "3             0        0       0       0              0  \n",
       "4             0        0       0       0              0  "
      ]
     },
     "execution_count": 2,
     "metadata": {},
     "output_type": "execute_result"
    }
   ],
   "source": [
    "df = pd.read_csv(\"../data/train.csv\")\n",
    "df.head()"
   ]
  },
  {
   "cell_type": "markdown",
   "metadata": {},
   "source": [
    "##### Cleaning Text"
   ]
  },
  {
   "cell_type": "code",
   "execution_count": 3,
   "metadata": {},
   "outputs": [],
   "source": [
    "from utils import clean_text\n",
    "\n",
    "df[\"comment_text\"] = df[\"comment_text\"].apply(clean_text)"
   ]
  },
  {
   "cell_type": "markdown",
   "metadata": {},
   "source": [
    "##### Splitting in Train and Val Split"
   ]
  },
  {
   "cell_type": "code",
   "execution_count": 4,
   "metadata": {},
   "outputs": [],
   "source": [
    "from sklearn.model_selection import train_test_split\n",
    "\n",
    "df_train,df_test = train_test_split(df,test_size=0.2)"
   ]
  },
  {
   "cell_type": "code",
   "execution_count": 5,
   "metadata": {},
   "outputs": [],
   "source": [
    "x_train = df_train[\"comment_text\"]\n",
    "y_train = df_train.iloc[:,2:-1].values\n",
    "x_test = df_test[\"comment_text\"]\n",
    "y_test = df_test.iloc[:,2:-1].values"
   ]
  },
  {
   "cell_type": "markdown",
   "metadata": {},
   "source": [
    "TF-IDF Vectorizer"
   ]
  },
  {
   "cell_type": "code",
   "execution_count": 6,
   "metadata": {},
   "outputs": [],
   "source": [
    "from sklearn.feature_extraction.text import TfidfVectorizer\n",
    "\n",
    "word_vectorizer = TfidfVectorizer(stop_words='english',\n",
    "                                  sublinear_tf=True,\n",
    "                                  strip_accents='unicode',\n",
    "                                  analyzer='word',\n",
    "                                  token_pattern=r'\\w{2,}',  #vectorize 2-character words or more\n",
    "                                  ngram_range=(1, 3),\n",
    "                                  max_features=5000)\n",
    "\n",
    "char_vectorizer = TfidfVectorizer(sublinear_tf=True,\n",
    "                                  strip_accents='unicode',\n",
    "                                  analyzer='char',\n",
    "                                  stop_words='english',\n",
    "                                  ngram_range=(2, 6),\n",
    "                                  max_features=5000)"
   ]
  },
  {
   "cell_type": "code",
   "execution_count": 7,
   "metadata": {},
   "outputs": [],
   "source": [
    "word_vectorizer.fit(pd.concat([x_train,x_test]))\n",
    "x_train_word_features = word_vectorizer.transform(x_train)\n",
    "x_test_word_features = word_vectorizer.transform(x_test)"
   ]
  },
  {
   "cell_type": "code",
   "execution_count": 8,
   "metadata": {},
   "outputs": [
    {
     "name": "stderr",
     "output_type": "stream",
     "text": [
      "/mnt/nfshome1/FRACTAL/saksham.jindal/miniconda37/envs/text/lib/python3.7/site-packages/sklearn/feature_extraction/text.py:520: UserWarning: The parameter 'stop_words' will not be used since 'analyzer' != 'word'\n",
      "  warnings.warn(\"The parameter 'stop_words' will not be used\"\n"
     ]
    }
   ],
   "source": [
    "char_vectorizer.fit(pd.concat([x_train,x_test]))\n",
    "x_train_char_features = char_vectorizer.transform(x_train)\n",
    "x_test_char_features = char_vectorizer.transform(x_test)"
   ]
  },
  {
   "cell_type": "code",
   "execution_count": 25,
   "metadata": {},
   "outputs": [],
   "source": [
    "from scipy.sparse import hstack\n",
    "\n",
    "x_train_features = hstack([x_train_word_features,x_train_char_features])\n",
    "x_test_features = hstack([x_test_word_features,x_test_char_features])"
   ]
  },
  {
   "cell_type": "markdown",
   "metadata": {},
   "source": [
    "##### Define holdout features"
   ]
  },
  {
   "cell_type": "code",
   "execution_count": 26,
   "metadata": {},
   "outputs": [],
   "source": [
    "test_hold_out = pd.read_csv(\"../data/test.csv\")\n",
    "\n",
    "hold_out_word_features = word_vectorizer.transform(test_hold_out[\"comment_text\"])\n",
    "hold_out_char_features = char_vectorizer.transform(test_hold_out[\"comment_text\"])\n",
    "hold_out_features = hstack([hold_out_word_features,hold_out_char_features])"
   ]
  },
  {
   "cell_type": "code",
   "execution_count": 28,
   "metadata": {},
   "outputs": [
    {
     "data": {
      "text/plain": [
       "((153164, 7), (153164, 2))"
      ]
     },
     "execution_count": 28,
     "metadata": {},
     "output_type": "execute_result"
    }
   ],
   "source": [
    "submission_df = pd.read_csv(\"../data/sample_submission.csv\")\n",
    "submission_df.shape,test_hold_out.shape"
   ]
  },
  {
   "cell_type": "markdown",
   "metadata": {},
   "source": [
    "Building a per-class Logistic_train_word_features"
   ]
  },
  {
   "cell_type": "code",
   "execution_count": 32,
   "metadata": {},
   "outputs": [
    {
     "name": "stdout",
     "output_type": "stream",
     "text": [
      "CV score for class toxic is 0.9608753827456878\n",
      "CV score for class severe_toxic is 0.9855058104539448\n",
      "CV score for class obscene is 0.9801828497361633\n",
      "CV score for class threat is 0.9776942472047808\n",
      "CV score for class insult is 0.9721762877502429\n",
      "CV score for class identity_hate is 0.9676307977437486\n"
     ]
    }
   ],
   "source": [
    "from sklearn.linear_model import LogisticRegression\n",
    "from sklearn.model_selection import cross_val_score\n",
    "\n",
    "CLASS_NAMES = list(df.columns)[-6:]\n",
    "\n",
    "cv_scores = []\n",
    "\n",
    "for class_name in CLASS_NAMES:\n",
    "    \n",
    "    train_target = df_train[class_name]\n",
    "    classifier = LogisticRegression(C=0.1,solver='sag')\n",
    "    \n",
    "    #Step 1. Cross-Validation\n",
    "    cv_score = np.mean(cross_val_score(classifier, x_train_features, train_target, cv=3, scoring='roc_auc'))\n",
    "    cv_scores.append(cv_score)\n",
    "    print('CV score for class {} is {}'.format(class_name, cv_score))\n",
    "    \n",
    "    #Step 2. Fit the classifier on the train_data\n",
    "    classifier.fit(x_train_features, train_target)\n",
    "    \n",
    "    #Step 3. Predict on the test data\n",
    "    test_hold_out[class_name] = classifier.predict_proba(hold_out_features)[:,1]\n"
   ]
  },
  {
   "cell_type": "code",
   "execution_count": 33,
   "metadata": {},
   "outputs": [
    {
     "data": {
      "text/html": [
       "<div>\n",
       "<style scoped>\n",
       "    .dataframe tbody tr th:only-of-type {\n",
       "        vertical-align: middle;\n",
       "    }\n",
       "\n",
       "    .dataframe tbody tr th {\n",
       "        vertical-align: top;\n",
       "    }\n",
       "\n",
       "    .dataframe thead th {\n",
       "        text-align: right;\n",
       "    }\n",
       "</style>\n",
       "<table border=\"1\" class=\"dataframe\">\n",
       "  <thead>\n",
       "    <tr style=\"text-align: right;\">\n",
       "      <th></th>\n",
       "      <th>id</th>\n",
       "      <th>comment_text</th>\n",
       "      <th>toxic</th>\n",
       "      <th>severe_toxic</th>\n",
       "      <th>obscene</th>\n",
       "      <th>threat</th>\n",
       "      <th>insult</th>\n",
       "      <th>identity_hate</th>\n",
       "    </tr>\n",
       "  </thead>\n",
       "  <tbody>\n",
       "    <tr>\n",
       "      <th>0</th>\n",
       "      <td>00001cee341fdb12</td>\n",
       "      <td>Yo bitch Ja Rule is more succesful then you'll...</td>\n",
       "      <td>0.995477</td>\n",
       "      <td>0.171234</td>\n",
       "      <td>0.988351</td>\n",
       "      <td>0.015602</td>\n",
       "      <td>0.961125</td>\n",
       "      <td>0.150784</td>\n",
       "    </tr>\n",
       "    <tr>\n",
       "      <th>1</th>\n",
       "      <td>0000247867823ef7</td>\n",
       "      <td>== From RfC == \\n\\n The title is fine as it is...</td>\n",
       "      <td>0.023289</td>\n",
       "      <td>0.003987</td>\n",
       "      <td>0.014420</td>\n",
       "      <td>0.001975</td>\n",
       "      <td>0.014591</td>\n",
       "      <td>0.006141</td>\n",
       "    </tr>\n",
       "    <tr>\n",
       "      <th>2</th>\n",
       "      <td>00013b17ad220c46</td>\n",
       "      <td>\" \\n\\n == Sources == \\n\\n * Zawe Ashton on Lap...</td>\n",
       "      <td>0.016945</td>\n",
       "      <td>0.004197</td>\n",
       "      <td>0.011127</td>\n",
       "      <td>0.002284</td>\n",
       "      <td>0.009777</td>\n",
       "      <td>0.004171</td>\n",
       "    </tr>\n",
       "    <tr>\n",
       "      <th>3</th>\n",
       "      <td>00017563c3f7919a</td>\n",
       "      <td>:If you have a look back at the source, the in...</td>\n",
       "      <td>0.017524</td>\n",
       "      <td>0.003734</td>\n",
       "      <td>0.010730</td>\n",
       "      <td>0.002097</td>\n",
       "      <td>0.010115</td>\n",
       "      <td>0.002788</td>\n",
       "    </tr>\n",
       "    <tr>\n",
       "      <th>4</th>\n",
       "      <td>00017695ad8997eb</td>\n",
       "      <td>I don't anonymously edit articles at all.</td>\n",
       "      <td>0.051908</td>\n",
       "      <td>0.003942</td>\n",
       "      <td>0.018272</td>\n",
       "      <td>0.001912</td>\n",
       "      <td>0.018847</td>\n",
       "      <td>0.004505</td>\n",
       "    </tr>\n",
       "    <tr>\n",
       "      <th>...</th>\n",
       "      <td>...</td>\n",
       "      <td>...</td>\n",
       "      <td>...</td>\n",
       "      <td>...</td>\n",
       "      <td>...</td>\n",
       "      <td>...</td>\n",
       "      <td>...</td>\n",
       "      <td>...</td>\n",
       "    </tr>\n",
       "    <tr>\n",
       "      <th>153159</th>\n",
       "      <td>fffcd0960ee309b5</td>\n",
       "      <td>. \\n i totally agree, this stuff is nothing bu...</td>\n",
       "      <td>0.298740</td>\n",
       "      <td>0.004772</td>\n",
       "      <td>0.071945</td>\n",
       "      <td>0.002284</td>\n",
       "      <td>0.035350</td>\n",
       "      <td>0.006685</td>\n",
       "    </tr>\n",
       "    <tr>\n",
       "      <th>153160</th>\n",
       "      <td>fffd7a9a6eb32c16</td>\n",
       "      <td>== Throw from out field to home plate. == \\n\\n...</td>\n",
       "      <td>0.059954</td>\n",
       "      <td>0.004789</td>\n",
       "      <td>0.030752</td>\n",
       "      <td>0.002493</td>\n",
       "      <td>0.022128</td>\n",
       "      <td>0.007938</td>\n",
       "    </tr>\n",
       "    <tr>\n",
       "      <th>153161</th>\n",
       "      <td>fffda9e8d6fafa9e</td>\n",
       "      <td>\" \\n\\n == Okinotorishima categories == \\n\\n I ...</td>\n",
       "      <td>0.026295</td>\n",
       "      <td>0.003327</td>\n",
       "      <td>0.017247</td>\n",
       "      <td>0.002077</td>\n",
       "      <td>0.014279</td>\n",
       "      <td>0.005229</td>\n",
       "    </tr>\n",
       "    <tr>\n",
       "      <th>153162</th>\n",
       "      <td>fffe8f1340a79fc2</td>\n",
       "      <td>\" \\n\\n == \"\"One of the founding nations of the...</td>\n",
       "      <td>0.031734</td>\n",
       "      <td>0.002389</td>\n",
       "      <td>0.011892</td>\n",
       "      <td>0.001478</td>\n",
       "      <td>0.014272</td>\n",
       "      <td>0.009613</td>\n",
       "    </tr>\n",
       "    <tr>\n",
       "      <th>153163</th>\n",
       "      <td>ffffce3fb183ee80</td>\n",
       "      <td>\" \\n :::Stop already. Your bullshit is not wel...</td>\n",
       "      <td>0.642897</td>\n",
       "      <td>0.005737</td>\n",
       "      <td>0.255909</td>\n",
       "      <td>0.005456</td>\n",
       "      <td>0.161918</td>\n",
       "      <td>0.009398</td>\n",
       "    </tr>\n",
       "  </tbody>\n",
       "</table>\n",
       "<p>153164 rows × 8 columns</p>\n",
       "</div>"
      ],
      "text/plain": [
       "                      id                                       comment_text  \\\n",
       "0       00001cee341fdb12  Yo bitch Ja Rule is more succesful then you'll...   \n",
       "1       0000247867823ef7  == From RfC == \\n\\n The title is fine as it is...   \n",
       "2       00013b17ad220c46  \" \\n\\n == Sources == \\n\\n * Zawe Ashton on Lap...   \n",
       "3       00017563c3f7919a  :If you have a look back at the source, the in...   \n",
       "4       00017695ad8997eb          I don't anonymously edit articles at all.   \n",
       "...                  ...                                                ...   \n",
       "153159  fffcd0960ee309b5  . \\n i totally agree, this stuff is nothing bu...   \n",
       "153160  fffd7a9a6eb32c16  == Throw from out field to home plate. == \\n\\n...   \n",
       "153161  fffda9e8d6fafa9e  \" \\n\\n == Okinotorishima categories == \\n\\n I ...   \n",
       "153162  fffe8f1340a79fc2  \" \\n\\n == \"\"One of the founding nations of the...   \n",
       "153163  ffffce3fb183ee80  \" \\n :::Stop already. Your bullshit is not wel...   \n",
       "\n",
       "           toxic  severe_toxic   obscene    threat    insult  identity_hate  \n",
       "0       0.995477      0.171234  0.988351  0.015602  0.961125       0.150784  \n",
       "1       0.023289      0.003987  0.014420  0.001975  0.014591       0.006141  \n",
       "2       0.016945      0.004197  0.011127  0.002284  0.009777       0.004171  \n",
       "3       0.017524      0.003734  0.010730  0.002097  0.010115       0.002788  \n",
       "4       0.051908      0.003942  0.018272  0.001912  0.018847       0.004505  \n",
       "...          ...           ...       ...       ...       ...            ...  \n",
       "153159  0.298740      0.004772  0.071945  0.002284  0.035350       0.006685  \n",
       "153160  0.059954      0.004789  0.030752  0.002493  0.022128       0.007938  \n",
       "153161  0.026295      0.003327  0.017247  0.002077  0.014279       0.005229  \n",
       "153162  0.031734      0.002389  0.011892  0.001478  0.014272       0.009613  \n",
       "153163  0.642897      0.005737  0.255909  0.005456  0.161918       0.009398  \n",
       "\n",
       "[153164 rows x 8 columns]"
      ]
     },
     "execution_count": 33,
     "metadata": {},
     "output_type": "execute_result"
    }
   ],
   "source": [
    "test_hold_out"
   ]
  },
  {
   "cell_type": "code",
   "execution_count": null,
   "metadata": {},
   "outputs": [],
   "source": []
  }
 ],
 "metadata": {
  "kernelspec": {
   "display_name": "text",
   "language": "python",
   "name": "text"
  },
  "language_info": {
   "codemirror_mode": {
    "name": "ipython",
    "version": 3
   },
   "file_extension": ".py",
   "mimetype": "text/x-python",
   "name": "python",
   "nbconvert_exporter": "python",
   "pygments_lexer": "ipython3",
   "version": "3.7.5"
  }
 },
 "nbformat": 4,
 "nbformat_minor": 4
}
